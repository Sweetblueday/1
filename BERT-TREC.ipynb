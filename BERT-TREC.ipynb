{
 "cells": [
  {
   "cell_type": "code",
   "execution_count": 1,
   "metadata": {
    "id": "E-IdmG6vO1uK"
   },
   "outputs": [],
   "source": [
    "from __future__ import print_function\n",
    "\n",
    "import torch \n",
    "import torch.nn as nn\n",
    "# import torchvision\n",
    "# import torchvision.transforms as transforms\n",
    "from torch.utils.data import Dataset, DataLoader\n",
    "from torch.autograd import Variable\n",
    "\n",
    "import numpy as np\n",
    "import pandas as pd\n",
    "import re\n",
    "import operator\n",
    "\n",
    "import os\n",
    "\n",
    "Idx = str(\"0\")\n",
    "os.environ[\"CUDA_DEVICE_ORDER\"]=\"PCI_BUS_ID\"\n",
    "os.environ[\"CUDA_VISIBLE_DEVICES\"]=Idx\n",
    "\n",
    "from tqdm.notebook import tqdm\n",
    "import utils\n",
    "# Device configuration\n",
    "device = torch.device('cuda' if torch.cuda.is_available() else 'cpu')"
   ]
  },
  {
   "cell_type": "code",
   "execution_count": 2,
   "metadata": {
    "id": "cMqxjkzpO1uN"
   },
   "outputs": [
    {
     "name": "stderr",
     "output_type": "stream",
     "text": [
      "/opt/conda/lib/python3.8/site-packages/transformers/generation_utils.py:24: FutureWarning: Importing `GenerationMixin` from `src/transformers/generation_utils.py` is deprecated and will be removed in Transformers v5. Import as `from transformers import GenerationMixin` instead.\n",
      "  warnings.warn(\n",
      "/opt/conda/lib/python3.8/site-packages/transformers/generation_tf_utils.py:24: FutureWarning: Importing `TFGenerationMixin` from `src/transformers/generation_tf_utils.py` is deprecated and will be removed in Transformers v5. Import as `from transformers import TFGenerationMixin` instead.\n",
      "  warnings.warn(\n",
      "You are using torchaudio==0.8.1, but torchaudio>=0.10.0 is required to use MCTCTFeatureExtractor. This requires torch>=1.10.0. Please upgrade torch and torchaudio.\n",
      "You are using torch==1.8.1+cu111, but torch>=1.10.0 is required to use ViltModel. Please upgrade torch.\n",
      "loading configuration file config.json from cache at /home/jovyan/.cache/huggingface/hub/models--bert-base-uncased/snapshots/0a6aa9128b6194f4f3c4db429b6cb4891cdb421b/config.json\n",
      "Model config BertConfig {\n",
      "  \"_name_or_path\": \"bert-base-uncased\",\n",
      "  \"architectures\": [\n",
      "    \"BertForMaskedLM\"\n",
      "  ],\n",
      "  \"attention_probs_dropout_prob\": 0.1,\n",
      "  \"classifier_dropout\": null,\n",
      "  \"gradient_checkpointing\": false,\n",
      "  \"hidden_act\": \"gelu\",\n",
      "  \"hidden_dropout_prob\": 0.1,\n",
      "  \"hidden_size\": 768,\n",
      "  \"initializer_range\": 0.02,\n",
      "  \"intermediate_size\": 3072,\n",
      "  \"layer_norm_eps\": 1e-12,\n",
      "  \"max_position_embeddings\": 512,\n",
      "  \"model_type\": \"bert\",\n",
      "  \"num_attention_heads\": 12,\n",
      "  \"num_hidden_layers\": 12,\n",
      "  \"pad_token_id\": 0,\n",
      "  \"position_embedding_type\": \"absolute\",\n",
      "  \"transformers_version\": \"4.25.1\",\n",
      "  \"type_vocab_size\": 2,\n",
      "  \"use_cache\": true,\n",
      "  \"vocab_size\": 30522\n",
      "}\n",
      "\n",
      "loading file vocab.txt from cache at /home/jovyan/.cache/huggingface/hub/models--bert-base-uncased/snapshots/0a6aa9128b6194f4f3c4db429b6cb4891cdb421b/vocab.txt\n",
      "loading file tokenizer.json from cache at /home/jovyan/.cache/huggingface/hub/models--bert-base-uncased/snapshots/0a6aa9128b6194f4f3c4db429b6cb4891cdb421b/tokenizer.json\n",
      "loading file added_tokens.json from cache at None\n",
      "loading file special_tokens_map.json from cache at None\n",
      "loading file tokenizer_config.json from cache at /home/jovyan/.cache/huggingface/hub/models--bert-base-uncased/snapshots/0a6aa9128b6194f4f3c4db429b6cb4891cdb421b/tokenizer_config.json\n",
      "loading configuration file config.json from cache at /home/jovyan/.cache/huggingface/hub/models--bert-base-uncased/snapshots/0a6aa9128b6194f4f3c4db429b6cb4891cdb421b/config.json\n",
      "Model config BertConfig {\n",
      "  \"_name_or_path\": \"bert-base-uncased\",\n",
      "  \"architectures\": [\n",
      "    \"BertForMaskedLM\"\n",
      "  ],\n",
      "  \"attention_probs_dropout_prob\": 0.1,\n",
      "  \"classifier_dropout\": null,\n",
      "  \"gradient_checkpointing\": false,\n",
      "  \"hidden_act\": \"gelu\",\n",
      "  \"hidden_dropout_prob\": 0.1,\n",
      "  \"hidden_size\": 768,\n",
      "  \"initializer_range\": 0.02,\n",
      "  \"intermediate_size\": 3072,\n",
      "  \"layer_norm_eps\": 1e-12,\n",
      "  \"max_position_embeddings\": 512,\n",
      "  \"model_type\": \"bert\",\n",
      "  \"num_attention_heads\": 12,\n",
      "  \"num_hidden_layers\": 12,\n",
      "  \"pad_token_id\": 0,\n",
      "  \"position_embedding_type\": \"absolute\",\n",
      "  \"transformers_version\": \"4.25.1\",\n",
      "  \"type_vocab_size\": 2,\n",
      "  \"use_cache\": true,\n",
      "  \"vocab_size\": 30522\n",
      "}\n",
      "\n"
     ]
    }
   ],
   "source": [
    "from transformers import *\n",
    "\n",
    "Tokenizer = AutoTokenizer.from_pretrained('bert-base-uncased')"
   ]
  },
  {
   "cell_type": "code",
   "execution_count": 3,
   "metadata": {
    "id": "MWDAxrzgO1uP"
   },
   "outputs": [
    {
     "name": "stderr",
     "output_type": "stream",
     "text": [
      "Found cached dataset trec (/home/jovyan/.cache/huggingface/datasets/trec/default/2.0.0/f2469cab1b5fceec7249fda55360dfdbd92a7a5b545e91ea0f78ad108ffac1c2)\n"
     ]
    },
    {
     "data": {
      "application/vnd.jupyter.widget-view+json": {
       "model_id": "262fd6af11444500b60e062a89a5dcf3",
       "version_major": 2,
       "version_minor": 0
      },
      "text/plain": [
       "  0%|          | 0/2 [00:00<?, ?it/s]"
      ]
     },
     "metadata": {},
     "output_type": "display_data"
    }
   ],
   "source": [
    "import utils\n",
    "from imp import reload\n",
    "reload(utils)\n",
    "\n",
    "x_train, y_train, x_valid, y_valid, x_test, y_test, TopicList, Idx2Topic = utils.LoadDatasets(\"TREC\")\n",
    "Idx2Topic_list = []\n",
    "for i in range(len(set(TopicList))): Idx2Topic_list.append(Idx2Topic[i])\n",
    "Idx2Topic_list = np.array(Idx2Topic_list)\n",
    "\n",
    "if not len(x_valid):\n",
    "    from sklearn.model_selection import train_test_split\n",
    "    x_train, x_valid, y_train, y_valid = train_test_split(x_train, y_train, test_size=0.15, random_state=42)"
   ]
  },
  {
   "cell_type": "code",
   "execution_count": 4,
   "metadata": {
    "colab": {
     "referenced_widgets": [
      "c8b43b76981e4ea4a64ac0ad5c6f1b3c",
      "6e0ac84b5a1e4adba30fd5d9c1a81fca",
      "06024e32887b45859db78c7fc731fb00"
     ]
    },
    "id": "2CnBK1pCO1uP",
    "outputId": "ad060c36-6fd2-47e9-fb13-57c264f5900e",
    "scrolled": true
   },
   "outputs": [
    {
     "data": {
      "application/vnd.jupyter.widget-view+json": {
       "model_id": "af87cb69bb5d4680a464d12a31e9f535",
       "version_major": 2,
       "version_minor": 0
      },
      "text/plain": [
       "  0%|          | 0/4634 [00:00<?, ?it/s]"
      ]
     },
     "metadata": {},
     "output_type": "display_data"
    },
    {
     "data": {
      "application/vnd.jupyter.widget-view+json": {
       "model_id": "b34c9268e357428cb61c38e0081b74c0",
       "version_major": 2,
       "version_minor": 0
      },
      "text/plain": [
       "  0%|          | 0/818 [00:00<?, ?it/s]"
      ]
     },
     "metadata": {},
     "output_type": "display_data"
    },
    {
     "data": {
      "application/vnd.jupyter.widget-view+json": {
       "model_id": "2d2dd5bc7beb4242a450074c79f799d5",
       "version_major": 2,
       "version_minor": 0
      },
      "text/plain": [
       "  0%|          | 0/500 [00:00<?, ?it/s]"
      ]
     },
     "metadata": {},
     "output_type": "display_data"
    }
   ],
   "source": [
    "from transformers import *\n",
    "\n",
    "MAX_SEQ_LEN = 512\n",
    "\n",
    "CLS_id = Tokenizer.convert_tokens_to_ids([\"[CLS]\"])\n",
    "SEP_id = Tokenizer.convert_tokens_to_ids([\"[SEP]\"])\n",
    "PAD_id = Tokenizer.convert_tokens_to_ids([\"[PAD]\"])\n",
    "\n",
    "pbar = tqdm(total = len(x_train))\n",
    "x_train_emb, x_valid_emb, x_test_emb = [], [], []\n",
    "for x in x_train:\n",
    "    pbar.update(1)\n",
    "    Tokens = Tokenizer.encode(x, add_special_tokens=False)[:MAX_SEQ_LEN-2]\n",
    "    x_train_emb.append(CLS_id + Tokens + SEP_id + PAD_id*(MAX_SEQ_LEN-2-len(Tokens)))\n",
    "pbar.close()\n",
    "\n",
    "pbar = tqdm(total = len(x_valid))\n",
    "for x in x_valid:\n",
    "    pbar.update(1)\n",
    "    Tokens = Tokenizer.encode(x, add_special_tokens=False)[:MAX_SEQ_LEN-2]\n",
    "    x_valid_emb.append(CLS_id + Tokens + SEP_id + PAD_id*(MAX_SEQ_LEN-2-len(Tokens)))\n",
    "pbar.close()\n",
    "\n",
    "pbar = tqdm(total = len(x_test))\n",
    "for x in x_test:\n",
    "    pbar.update(1)\n",
    "    Tokens = Tokenizer.encode(x, add_special_tokens=False)[:MAX_SEQ_LEN-2]\n",
    "    x_test_emb.append(CLS_id + Tokens + SEP_id + PAD_id*(MAX_SEQ_LEN-2-len(Tokens)))\n",
    "pbar.close()\n",
    "\n",
    "x_train_emb, x_valid_emb, x_test_emb = np.array(x_train_emb), np.array(x_valid_emb), np.array(x_test_emb)\n",
    "y_train, y_valid, y_test = np.asarray(y_train), np.asarray(y_valid), np.asarray(y_test)"
   ]
  },
  {
   "cell_type": "code",
   "execution_count": 5,
   "metadata": {
    "id": "4CBASMaDO1uQ",
    "outputId": "a095bf27-81e9-46c1-d2d7-9e4a65c43883"
   },
   "outputs": [
    {
     "name": "stdout",
     "output_type": "stream",
     "text": [
      "(4634, 512) (818, 512) (500, 512)\n",
      "NumClass 6\n"
     ]
    }
   ],
   "source": [
    "NumClass = max(len(set(y_train)), max(y_train)+1)\n",
    "print(x_train_emb.shape, x_valid_emb.shape, x_test_emb.shape)\n",
    "print(\"NumClass\", NumClass)"
   ]
  },
  {
   "cell_type": "code",
   "execution_count": 6,
   "metadata": {
    "id": "aeX6yMnIO1uR"
   },
   "outputs": [],
   "source": [
    "import dataloader\n",
    "import copy\n",
    "import random\n",
    "\n",
    "### Hyperparameters\n",
    "Hyperparams = {\n",
    "    \"NumClfEpoch\" : 100,\n",
    "    \"EmbeddingSize\" : 768, # 300, 768\n",
    "    \"BatchSize\" : 2**4,\n",
    "    \"LearningRate_EMB\" : 0, # Freeze\n",
    "    \"LearningRate_CLF\" : 1e-3,\n",
    "    \"MaxSeqLen\" : MAX_SEQ_LEN,\n",
    "    \"NumClass\" : NumClass,\n",
    "}\n",
    "\n",
    "train_dataset = dataloader.ClassifyDataset(x=x_train_emb, y=y_train)\n",
    "valid_dataset = dataloader.ClassifyDataset(x=x_valid_emb, y=y_valid)\n",
    "test_dataset = dataloader.ClassifyDataset(x=x_test_emb, y=y_test)\n",
    "train_loader = DataLoader(dataset=train_dataset, batch_size=Hyperparams[\"BatchSize\"], shuffle=True, num_workers=0)\n",
    "valid_loader = DataLoader(dataset=valid_dataset, batch_size=Hyperparams[\"BatchSize\"], shuffle=True, num_workers=0)\n",
    "test_loader = DataLoader(dataset=test_dataset, batch_size=Hyperparams[\"BatchSize\"], shuffle=True, num_workers=0)"
   ]
  },
  {
   "cell_type": "code",
   "execution_count": 7,
   "metadata": {
    "id": "tUeKiVdfO1uR"
   },
   "outputs": [],
   "source": [
    "class LinearClassifier(nn.Module):\n",
    "    def __init__(self, Hyperparams):\n",
    "        ###\n",
    "        super(LinearClassifier, self).__init__()\n",
    "        self.EmbeddingSize = Hyperparams[\"EmbeddingSize\"]\n",
    "        self.LearningRate = Hyperparams[\"LearningRate_CLF\"]\n",
    "        self.BatchSize = Hyperparams[\"BatchSize\"]\n",
    "        self.MaxSeqLen = Hyperparams[\"MaxSeqLen\"]\n",
    "        self.NumClass = Hyperparams[\"NumClass\"]\n",
    "        \n",
    "        self.fc = nn.Sequential(\n",
    "#             nn.Dropout(self.DropoutRate),\n",
    "            nn.Linear(self.EmbeddingSize, self.NumClass),\n",
    "        )\n",
    "        \n",
    "    def forward(self, x):\n",
    "        out = self.fc(x)\n",
    "        return out"
   ]
  },
  {
   "cell_type": "code",
   "execution_count": 11,
   "metadata": {
    "colab": {
     "referenced_widgets": [
      "4b0849e4d2f542b58568b6cfdbd2a3ac",
      "86194d141e914495a5bb56e51e90d770"
     ]
    },
    "id": "RTixSQgeO1uS",
    "outputId": "749cd6d7-40f1-469c-c3f4-c7d13512fa60"
   },
   "outputs": [
    {
     "name": "stderr",
     "output_type": "stream",
     "text": [
      "loading configuration file /home/jovyan/temp/defbert1/config.json\n",
      "Model config BertConfig {\n",
      "  \"_name_or_path\": \"/home/jovyan/temp/defbert1\",\n",
      "  \"architectures\": [\n",
      "    \"BertModel\"\n",
      "  ],\n",
      "  \"attention_probs_dropout_prob\": 0.1,\n",
      "  \"classifier_dropout\": null,\n",
      "  \"gradient_checkpointing\": false,\n",
      "  \"hidden_act\": \"gelu\",\n",
      "  \"hidden_dropout_prob\": 0.1,\n",
      "  \"hidden_size\": 768,\n",
      "  \"initializer_range\": 0.02,\n",
      "  \"intermediate_size\": 3072,\n",
      "  \"layer_norm_eps\": 1e-12,\n",
      "  \"max_position_embeddings\": 512,\n",
      "  \"model_type\": \"bert\",\n",
      "  \"num_attention_heads\": 12,\n",
      "  \"num_hidden_layers\": 12,\n",
      "  \"pad_token_id\": 0,\n",
      "  \"position_embedding_type\": \"absolute\",\n",
      "  \"torch_dtype\": \"float32\",\n",
      "  \"transformers_version\": \"4.25.1\",\n",
      "  \"type_vocab_size\": 2,\n",
      "  \"use_cache\": true,\n",
      "  \"vocab_size\": 30522\n",
      "}\n",
      "\n",
      "loading weights file /home/jovyan/temp/defbert1/pytorch_model.bin\n",
      "All model checkpoint weights were used when initializing BertModel.\n",
      "\n",
      "All the weights of BertModel were initialized from the model checkpoint at /home/jovyan/temp/defbert1.\n",
      "If your task is similar to the task the model of the checkpoint was trained on, you can already use BertModel for predictions without further training.\n"
     ]
    },
    {
     "data": {
      "application/vnd.jupyter.widget-view+json": {
       "model_id": "fba65dea23134e4198720adbc87fb25e",
       "version_major": 2,
       "version_minor": 0
      },
      "text/plain": [
       "Epoch:   0%|          | 0/100 [00:00<?, ?it/s]"
      ]
     },
     "metadata": {},
     "output_type": "display_data"
    },
    {
     "data": {
      "application/vnd.jupyter.widget-view+json": {
       "model_id": "",
       "version_major": 2,
       "version_minor": 0
      },
      "text/plain": [
       "Training:   0%|          | 0/4634 [00:00<?, ?it/s]"
      ]
     },
     "metadata": {},
     "output_type": "display_data"
    },
    {
     "name": "stdout",
     "output_type": "stream",
     "text": [
      "Epoch [1/100], Loss: 1.5673 ValidAcc: 41.8093 % , MaxAcc: 0.4181, EarlyStopCnt: 5\n"
     ]
    },
    {
     "data": {
      "application/vnd.jupyter.widget-view+json": {
       "model_id": "",
       "version_major": 2,
       "version_minor": 0
      },
      "text/plain": [
       "Training:   0%|          | 0/4634 [00:00<?, ?it/s]"
      ]
     },
     "metadata": {},
     "output_type": "display_data"
    },
    {
     "name": "stdout",
     "output_type": "stream",
     "text": [
      "Epoch [2/100], Loss: 1.0354 ValidAcc: 51.8337 % , MaxAcc: 0.5183, EarlyStopCnt: 5\n"
     ]
    },
    {
     "data": {
      "application/vnd.jupyter.widget-view+json": {
       "model_id": "",
       "version_major": 2,
       "version_minor": 0
      },
      "text/plain": [
       "Training:   0%|          | 0/4634 [00:00<?, ?it/s]"
      ]
     },
     "metadata": {},
     "output_type": "display_data"
    },
    {
     "name": "stdout",
     "output_type": "stream",
     "text": [
      "Epoch [3/100], Loss: 1.3168 ValidAcc: 52.3227 % , MaxAcc: 0.5232, EarlyStopCnt: 5\n"
     ]
    },
    {
     "data": {
      "application/vnd.jupyter.widget-view+json": {
       "model_id": "",
       "version_major": 2,
       "version_minor": 0
      },
      "text/plain": [
       "Training:   0%|          | 0/4634 [00:00<?, ?it/s]"
      ]
     },
     "metadata": {},
     "output_type": "display_data"
    },
    {
     "name": "stdout",
     "output_type": "stream",
     "text": [
      "Epoch [4/100], Loss: 1.1039 ValidAcc: 53.7897 % , MaxAcc: 0.5379, EarlyStopCnt: 5\n"
     ]
    },
    {
     "data": {
      "application/vnd.jupyter.widget-view+json": {
       "model_id": "",
       "version_major": 2,
       "version_minor": 0
      },
      "text/plain": [
       "Training:   0%|          | 0/4634 [00:00<?, ?it/s]"
      ]
     },
     "metadata": {},
     "output_type": "display_data"
    },
    {
     "name": "stdout",
     "output_type": "stream",
     "text": [
      "Epoch [5/100], Loss: 1.3358 ValidAcc: 63.6919 % , MaxAcc: 0.6369, EarlyStopCnt: 5\n"
     ]
    },
    {
     "data": {
      "application/vnd.jupyter.widget-view+json": {
       "model_id": "",
       "version_major": 2,
       "version_minor": 0
      },
      "text/plain": [
       "Training:   0%|          | 0/4634 [00:00<?, ?it/s]"
      ]
     },
     "metadata": {},
     "output_type": "display_data"
    },
    {
     "name": "stdout",
     "output_type": "stream",
     "text": [
      "Epoch [6/100], Loss: 1.3589 ValidAcc: 60.3912 % , MaxAcc: 0.6369, EarlyStopCnt: 5\n"
     ]
    },
    {
     "data": {
      "application/vnd.jupyter.widget-view+json": {
       "model_id": "",
       "version_major": 2,
       "version_minor": 0
      },
      "text/plain": [
       "Training:   0%|          | 0/4634 [00:00<?, ?it/s]"
      ]
     },
     "metadata": {},
     "output_type": "display_data"
    },
    {
     "name": "stdout",
     "output_type": "stream",
     "text": [
      "Epoch [7/100], Loss: 0.9115 ValidAcc: 64.4254 % , MaxAcc: 0.6443, EarlyStopCnt: 5\n"
     ]
    },
    {
     "data": {
      "application/vnd.jupyter.widget-view+json": {
       "model_id": "",
       "version_major": 2,
       "version_minor": 0
      },
      "text/plain": [
       "Training:   0%|          | 0/4634 [00:00<?, ?it/s]"
      ]
     },
     "metadata": {},
     "output_type": "display_data"
    },
    {
     "name": "stdout",
     "output_type": "stream",
     "text": [
      "Epoch [8/100], Loss: 1.1152 ValidAcc: 66.7482 % , MaxAcc: 0.6675, EarlyStopCnt: 5\n"
     ]
    },
    {
     "data": {
      "application/vnd.jupyter.widget-view+json": {
       "model_id": "",
       "version_major": 2,
       "version_minor": 0
      },
      "text/plain": [
       "Training:   0%|          | 0/4634 [00:00<?, ?it/s]"
      ]
     },
     "metadata": {},
     "output_type": "display_data"
    },
    {
     "name": "stdout",
     "output_type": "stream",
     "text": [
      "Epoch [9/100], Loss: 0.9600 ValidAcc: 65.2812 % , MaxAcc: 0.6675, EarlyStopCnt: 5\n"
     ]
    },
    {
     "data": {
      "application/vnd.jupyter.widget-view+json": {
       "model_id": "",
       "version_major": 2,
       "version_minor": 0
      },
      "text/plain": [
       "Training:   0%|          | 0/4634 [00:00<?, ?it/s]"
      ]
     },
     "metadata": {},
     "output_type": "display_data"
    },
    {
     "name": "stdout",
     "output_type": "stream",
     "text": [
      "Epoch [10/100], Loss: 0.6398 ValidAcc: 67.3594 % , MaxAcc: 0.6736, EarlyStopCnt: 5\n"
     ]
    },
    {
     "data": {
      "application/vnd.jupyter.widget-view+json": {
       "model_id": "",
       "version_major": 2,
       "version_minor": 0
      },
      "text/plain": [
       "Training:   0%|          | 0/4634 [00:00<?, ?it/s]"
      ]
     },
     "metadata": {},
     "output_type": "display_data"
    },
    {
     "name": "stdout",
     "output_type": "stream",
     "text": [
      "Epoch [11/100], Loss: 0.9178 ValidAcc: 66.2592 % , MaxAcc: 0.6736, EarlyStopCnt: 5\n"
     ]
    },
    {
     "data": {
      "application/vnd.jupyter.widget-view+json": {
       "model_id": "",
       "version_major": 2,
       "version_minor": 0
      },
      "text/plain": [
       "Training:   0%|          | 0/4634 [00:00<?, ?it/s]"
      ]
     },
     "metadata": {},
     "output_type": "display_data"
    },
    {
     "name": "stdout",
     "output_type": "stream",
     "text": [
      "Epoch [12/100], Loss: 0.9507 ValidAcc: 67.9707 % , MaxAcc: 0.6797, EarlyStopCnt: 5\n"
     ]
    },
    {
     "data": {
      "application/vnd.jupyter.widget-view+json": {
       "model_id": "",
       "version_major": 2,
       "version_minor": 0
      },
      "text/plain": [
       "Training:   0%|          | 0/4634 [00:00<?, ?it/s]"
      ]
     },
     "metadata": {},
     "output_type": "display_data"
    },
    {
     "name": "stdout",
     "output_type": "stream",
     "text": [
      "Epoch [13/100], Loss: 0.9595 ValidAcc: 68.8264 % , MaxAcc: 0.6883, EarlyStopCnt: 5\n"
     ]
    },
    {
     "data": {
      "application/vnd.jupyter.widget-view+json": {
       "model_id": "",
       "version_major": 2,
       "version_minor": 0
      },
      "text/plain": [
       "Training:   0%|          | 0/4634 [00:00<?, ?it/s]"
      ]
     },
     "metadata": {},
     "output_type": "display_data"
    },
    {
     "name": "stdout",
     "output_type": "stream",
     "text": [
      "Epoch [14/100], Loss: 1.3509 ValidAcc: 63.9364 % , MaxAcc: 0.6883, EarlyStopCnt: 5\n"
     ]
    },
    {
     "data": {
      "application/vnd.jupyter.widget-view+json": {
       "model_id": "",
       "version_major": 2,
       "version_minor": 0
      },
      "text/plain": [
       "Training:   0%|          | 0/4634 [00:00<?, ?it/s]"
      ]
     },
     "metadata": {},
     "output_type": "display_data"
    },
    {
     "name": "stdout",
     "output_type": "stream",
     "text": [
      "Epoch [15/100], Loss: 1.1074 ValidAcc: 70.0489 % , MaxAcc: 0.7005, EarlyStopCnt: 5\n"
     ]
    },
    {
     "data": {
      "application/vnd.jupyter.widget-view+json": {
       "model_id": "",
       "version_major": 2,
       "version_minor": 0
      },
      "text/plain": [
       "Training:   0%|          | 0/4634 [00:00<?, ?it/s]"
      ]
     },
     "metadata": {},
     "output_type": "display_data"
    },
    {
     "name": "stdout",
     "output_type": "stream",
     "text": [
      "Epoch [16/100], Loss: 0.7715 ValidAcc: 69.9267 % , MaxAcc: 0.7005, EarlyStopCnt: 5\n"
     ]
    },
    {
     "data": {
      "application/vnd.jupyter.widget-view+json": {
       "model_id": "",
       "version_major": 2,
       "version_minor": 0
      },
      "text/plain": [
       "Training:   0%|          | 0/4634 [00:00<?, ?it/s]"
      ]
     },
     "metadata": {},
     "output_type": "display_data"
    },
    {
     "name": "stdout",
     "output_type": "stream",
     "text": [
      "Epoch [17/100], Loss: 0.7230 ValidAcc: 68.3374 % , MaxAcc: 0.7005, EarlyStopCnt: 4\n"
     ]
    },
    {
     "data": {
      "application/vnd.jupyter.widget-view+json": {
       "model_id": "",
       "version_major": 2,
       "version_minor": 0
      },
      "text/plain": [
       "Training:   0%|          | 0/4634 [00:00<?, ?it/s]"
      ]
     },
     "metadata": {},
     "output_type": "display_data"
    },
    {
     "name": "stdout",
     "output_type": "stream",
     "text": [
      "Epoch [18/100], Loss: 0.6368 ValidAcc: 70.6601 % , MaxAcc: 0.7066, EarlyStopCnt: 5\n"
     ]
    },
    {
     "data": {
      "application/vnd.jupyter.widget-view+json": {
       "model_id": "",
       "version_major": 2,
       "version_minor": 0
      },
      "text/plain": [
       "Training:   0%|          | 0/4634 [00:00<?, ?it/s]"
      ]
     },
     "metadata": {},
     "output_type": "display_data"
    },
    {
     "name": "stdout",
     "output_type": "stream",
     "text": [
      "Epoch [19/100], Loss: 0.5896 ValidAcc: 71.0269 % , MaxAcc: 0.7103, EarlyStopCnt: 5\n"
     ]
    },
    {
     "data": {
      "application/vnd.jupyter.widget-view+json": {
       "model_id": "",
       "version_major": 2,
       "version_minor": 0
      },
      "text/plain": [
       "Training:   0%|          | 0/4634 [00:00<?, ?it/s]"
      ]
     },
     "metadata": {},
     "output_type": "display_data"
    },
    {
     "name": "stdout",
     "output_type": "stream",
     "text": [
      "Epoch [20/100], Loss: 0.7639 ValidAcc: 70.1711 % , MaxAcc: 0.7103, EarlyStopCnt: 5\n"
     ]
    },
    {
     "data": {
      "application/vnd.jupyter.widget-view+json": {
       "model_id": "",
       "version_major": 2,
       "version_minor": 0
      },
      "text/plain": [
       "Training:   0%|          | 0/4634 [00:00<?, ?it/s]"
      ]
     },
     "metadata": {},
     "output_type": "display_data"
    },
    {
     "name": "stdout",
     "output_type": "stream",
     "text": [
      "Epoch [21/100], Loss: 0.4743 ValidAcc: 69.4377 % , MaxAcc: 0.7103, EarlyStopCnt: 4\n"
     ]
    },
    {
     "data": {
      "application/vnd.jupyter.widget-view+json": {
       "model_id": "",
       "version_major": 2,
       "version_minor": 0
      },
      "text/plain": [
       "Training:   0%|          | 0/4634 [00:00<?, ?it/s]"
      ]
     },
     "metadata": {},
     "output_type": "display_data"
    },
    {
     "name": "stdout",
     "output_type": "stream",
     "text": [
      "Epoch [22/100], Loss: 0.7775 ValidAcc: 72.1271 % , MaxAcc: 0.7213, EarlyStopCnt: 5\n"
     ]
    },
    {
     "data": {
      "application/vnd.jupyter.widget-view+json": {
       "model_id": "",
       "version_major": 2,
       "version_minor": 0
      },
      "text/plain": [
       "Training:   0%|          | 0/4634 [00:00<?, ?it/s]"
      ]
     },
     "metadata": {},
     "output_type": "display_data"
    },
    {
     "name": "stdout",
     "output_type": "stream",
     "text": [
      "Epoch [23/100], Loss: 0.7975 ValidAcc: 71.8826 % , MaxAcc: 0.7213, EarlyStopCnt: 5\n"
     ]
    },
    {
     "data": {
      "application/vnd.jupyter.widget-view+json": {
       "model_id": "",
       "version_major": 2,
       "version_minor": 0
      },
      "text/plain": [
       "Training:   0%|          | 0/4634 [00:00<?, ?it/s]"
      ]
     },
     "metadata": {},
     "output_type": "display_data"
    },
    {
     "name": "stdout",
     "output_type": "stream",
     "text": [
      "Epoch [24/100], Loss: 0.8745 ValidAcc: 72.1271 % , MaxAcc: 0.7213, EarlyStopCnt: 5\n"
     ]
    },
    {
     "data": {
      "application/vnd.jupyter.widget-view+json": {
       "model_id": "",
       "version_major": 2,
       "version_minor": 0
      },
      "text/plain": [
       "Training:   0%|          | 0/4634 [00:00<?, ?it/s]"
      ]
     },
     "metadata": {},
     "output_type": "display_data"
    },
    {
     "name": "stdout",
     "output_type": "stream",
     "text": [
      "Epoch [25/100], Loss: 0.5154 ValidAcc: 72.6161 % , MaxAcc: 0.7262, EarlyStopCnt: 5\n"
     ]
    },
    {
     "data": {
      "application/vnd.jupyter.widget-view+json": {
       "model_id": "",
       "version_major": 2,
       "version_minor": 0
      },
      "text/plain": [
       "Training:   0%|          | 0/4634 [00:00<?, ?it/s]"
      ]
     },
     "metadata": {},
     "output_type": "display_data"
    },
    {
     "name": "stdout",
     "output_type": "stream",
     "text": [
      "Epoch [26/100], Loss: 0.6940 ValidAcc: 72.4939 % , MaxAcc: 0.7262, EarlyStopCnt: 5\n"
     ]
    },
    {
     "data": {
      "application/vnd.jupyter.widget-view+json": {
       "model_id": "",
       "version_major": 2,
       "version_minor": 0
      },
      "text/plain": [
       "Training:   0%|          | 0/4634 [00:00<?, ?it/s]"
      ]
     },
     "metadata": {},
     "output_type": "display_data"
    },
    {
     "name": "stdout",
     "output_type": "stream",
     "text": [
      "Epoch [27/100], Loss: 0.8657 ValidAcc: 72.6161 % , MaxAcc: 0.7262, EarlyStopCnt: 5\n"
     ]
    },
    {
     "data": {
      "application/vnd.jupyter.widget-view+json": {
       "model_id": "",
       "version_major": 2,
       "version_minor": 0
      },
      "text/plain": [
       "Training:   0%|          | 0/4634 [00:00<?, ?it/s]"
      ]
     },
     "metadata": {},
     "output_type": "display_data"
    },
    {
     "name": "stdout",
     "output_type": "stream",
     "text": [
      "Epoch [28/100], Loss: 1.0095 ValidAcc: 72.8606 % , MaxAcc: 0.7286, EarlyStopCnt: 5\n"
     ]
    },
    {
     "data": {
      "application/vnd.jupyter.widget-view+json": {
       "model_id": "",
       "version_major": 2,
       "version_minor": 0
      },
      "text/plain": [
       "Training:   0%|          | 0/4634 [00:00<?, ?it/s]"
      ]
     },
     "metadata": {},
     "output_type": "display_data"
    },
    {
     "name": "stdout",
     "output_type": "stream",
     "text": [
      "Epoch [29/100], Loss: 0.7871 ValidAcc: 72.8606 % , MaxAcc: 0.7286, EarlyStopCnt: 5\n"
     ]
    },
    {
     "data": {
      "application/vnd.jupyter.widget-view+json": {
       "model_id": "",
       "version_major": 2,
       "version_minor": 0
      },
      "text/plain": [
       "Training:   0%|          | 0/4634 [00:00<?, ?it/s]"
      ]
     },
     "metadata": {},
     "output_type": "display_data"
    },
    {
     "name": "stdout",
     "output_type": "stream",
     "text": [
      "Epoch [30/100], Loss: 0.4537 ValidAcc: 72.7384 % , MaxAcc: 0.7286, EarlyStopCnt: 5\n"
     ]
    },
    {
     "data": {
      "application/vnd.jupyter.widget-view+json": {
       "model_id": "",
       "version_major": 2,
       "version_minor": 0
      },
      "text/plain": [
       "Training:   0%|          | 0/4634 [00:00<?, ?it/s]"
      ]
     },
     "metadata": {},
     "output_type": "display_data"
    },
    {
     "name": "stdout",
     "output_type": "stream",
     "text": [
      "Epoch [31/100], Loss: 0.8024 ValidAcc: 75.5501 % , MaxAcc: 0.7555, EarlyStopCnt: 5\n"
     ]
    },
    {
     "data": {
      "application/vnd.jupyter.widget-view+json": {
       "model_id": "",
       "version_major": 2,
       "version_minor": 0
      },
      "text/plain": [
       "Training:   0%|          | 0/4634 [00:00<?, ?it/s]"
      ]
     },
     "metadata": {},
     "output_type": "display_data"
    },
    {
     "name": "stdout",
     "output_type": "stream",
     "text": [
      "Epoch [32/100], Loss: 0.3506 ValidAcc: 70.1711 % , MaxAcc: 0.7555, EarlyStopCnt: 5\n"
     ]
    },
    {
     "data": {
      "application/vnd.jupyter.widget-view+json": {
       "model_id": "",
       "version_major": 2,
       "version_minor": 0
      },
      "text/plain": [
       "Training:   0%|          | 0/4634 [00:00<?, ?it/s]"
      ]
     },
     "metadata": {},
     "output_type": "display_data"
    },
    {
     "name": "stdout",
     "output_type": "stream",
     "text": [
      "Epoch [33/100], Loss: 0.8298 ValidAcc: 74.2054 % , MaxAcc: 0.7555, EarlyStopCnt: 4\n"
     ]
    },
    {
     "data": {
      "application/vnd.jupyter.widget-view+json": {
       "model_id": "",
       "version_major": 2,
       "version_minor": 0
      },
      "text/plain": [
       "Training:   0%|          | 0/4634 [00:00<?, ?it/s]"
      ]
     },
     "metadata": {},
     "output_type": "display_data"
    },
    {
     "name": "stdout",
     "output_type": "stream",
     "text": [
      "Epoch [34/100], Loss: 1.0126 ValidAcc: 74.0831 % , MaxAcc: 0.7555, EarlyStopCnt: 3\n"
     ]
    },
    {
     "data": {
      "application/vnd.jupyter.widget-view+json": {
       "model_id": "",
       "version_major": 2,
       "version_minor": 0
      },
      "text/plain": [
       "Training:   0%|          | 0/4634 [00:00<?, ?it/s]"
      ]
     },
     "metadata": {},
     "output_type": "display_data"
    },
    {
     "name": "stdout",
     "output_type": "stream",
     "text": [
      "Epoch [35/100], Loss: 0.6534 ValidAcc: 74.6944 % , MaxAcc: 0.7555, EarlyStopCnt: 2\n"
     ]
    },
    {
     "data": {
      "application/vnd.jupyter.widget-view+json": {
       "model_id": "",
       "version_major": 2,
       "version_minor": 0
      },
      "text/plain": [
       "Training:   0%|          | 0/4634 [00:00<?, ?it/s]"
      ]
     },
     "metadata": {},
     "output_type": "display_data"
    },
    {
     "name": "stdout",
     "output_type": "stream",
     "text": [
      "Epoch [36/100], Loss: 0.6383 ValidAcc: 74.9389 % , MaxAcc: 0.7555, EarlyStopCnt: 1\n",
      "TestAcc: 80.4000 % , ValidAcc: 0.7555\n"
     ]
    }
   ],
   "source": [
    "for Iter in range(1):\n",
    "    Hyperparams[\"LearningRate_EMB\"] = 0\n",
    "    Hyperparams[\"LearningRate_CLF\"] = 1e-3\n",
    "    \n",
    "#     Embedding = AutoModel.from_pretrained('bert-base-uncased')\n",
    "#     Embedding = AutoModel.from_pretrained('sentence-transformers/bert-base-nli-mean-tokens')\n",
    "#     Embedding = AutoModel.from_pretrained('kanishka/GlossBERT')\n",
    "#     Embedding = AutoModel.from_pretrained('./defbert')\n",
    "    Embedding = AutoModel.from_pretrained('/home/jovyan/temp/defbert1')\n",
    "\n",
    "    Embedding = nn.DataParallel(Embedding).to(device)\n",
    "    Classifier = LinearClassifier(Hyperparams)\n",
    "    Classifier = nn.DataParallel(Classifier).to(device)\n",
    "    \n",
    "    criterion = nn.CrossEntropyLoss()\n",
    "    UNKWords = []\n",
    "\n",
    "    # Train the model\n",
    "    maxacc_all = 0; Step = 0\n",
    "    \n",
    "    optimizer_emb = torch.optim.Adam(filter(lambda p: p.requires_grad, Embedding.parameters()), lr=Hyperparams[\"LearningRate_EMB\"])\n",
    "    optimizer_clf = torch.optim.Adam(filter(lambda p: p.requires_grad, Classifier.parameters()), lr=Hyperparams[\"LearningRate_CLF\"])\n",
    "    maxacc_val = 0\n",
    "    EarlyStopCnt = 5\n",
    "    total_step = len(train_loader)\n",
    "    pbar1 = tqdm(total = Hyperparams[\"NumClfEpoch\"], leave=False, desc=\"Epoch\")\n",
    "#         Embedding.train() # train mode\n",
    "    Classifier.train()\n",
    "    for epoch in range(Hyperparams[\"NumClfEpoch\"]):\n",
    "        pbar1.update(1)\n",
    "        pbar2 = tqdm(total = len(train_dataset), leave=False, desc=\"Training\")\n",
    "        for i, (texts, labels) in enumerate(train_loader):\n",
    "            texts = texts.to(device)\n",
    "            labels = labels.to(device)\n",
    "            # Forward pass\n",
    "            emb = Embedding(texts, output_hidden_states=True)\n",
    "            outputs = Classifier(emb[2][-1][:,0,:])\n",
    "            loss = criterion(outputs, labels)\n",
    "            optimizer_emb.zero_grad()\n",
    "            optimizer_clf.zero_grad()\n",
    "            loss.backward()\n",
    "            optimizer_emb.step()\n",
    "            optimizer_clf.step()\n",
    "            pbar2.update(texts.size(0))\n",
    "        pbar2.close()\n",
    "\n",
    "        print ('Epoch [{}/{}], Loss: {:.4f}'.format(epoch+1, Hyperparams[\"NumClfEpoch\"], loss.item()), end=' ')\n",
    "\n",
    "        # Valid the model\n",
    "        Embedding.eval()\n",
    "        Classifier.eval()\n",
    "        with torch.no_grad():\n",
    "            correct = 0.\n",
    "            total = 0\n",
    "            for texts, labels in valid_loader:\n",
    "                texts = texts.to(device)\n",
    "                labels = labels.to(device)\n",
    "                emb = Embedding(texts, output_hidden_states=True)\n",
    "                outputs = Classifier(emb[2][-1][:,0,:])\n",
    "                predicted = []\n",
    "                _, predicted = torch.max(outputs.data, 1)\n",
    "                total += labels.size(0)\n",
    "                correct += (predicted == labels).sum().item()\n",
    "\n",
    "            if (correct/total) >= maxacc_val:\n",
    "                maxacc_val = correct/total\n",
    "                torch.save(Embedding.state_dict(), \"./save/Embedding\"+ Idx)\n",
    "                torch.save(Classifier.state_dict(), \"./save/Classifier\"+ Idx)\n",
    "                EarlyStopCnt = 5\n",
    "\n",
    "            print('ValidAcc: {:.4f} % , MaxAcc: {:.4f}, EarlyStopCnt: {}'.format(100 * correct/total, maxacc_val, EarlyStopCnt))\n",
    "\n",
    "            if (correct/total) < maxacc_val:\n",
    "                EarlyStopCnt = EarlyStopCnt-1\n",
    "                if EarlyStopCnt == 0:\n",
    "                    break\n",
    "\n",
    "    ### Test Acc.\n",
    "    Embedding.load_state_dict(torch.load(\"./save/Embedding\"+ Idx))\n",
    "    Classifier.load_state_dict(torch.load(\"./save/Classifier\"+ Idx))\n",
    "\n",
    "    with torch.no_grad():\n",
    "        Embedding.eval()\n",
    "        Classifier.eval()\n",
    "        correct = 0.\n",
    "        total = 0\n",
    "        for texts, labels in test_loader:\n",
    "            texts = texts.to(device)\n",
    "            labels = labels.to(device)\n",
    "            emb = Embedding(texts, output_hidden_states=True)\n",
    "            outputs = Classifier(emb[2][-1][:,0,:])\n",
    "            predicted = []\n",
    "            _, predicted = torch.max(outputs.data, 1)\n",
    "            total += labels.size(0)\n",
    "            correct += (predicted == labels).sum().item()\n",
    "\n",
    "        print('TestAcc: {:.4f} % , ValidAcc: {:.4f}'.format(100 * correct / total, maxacc_val))\n",
    "\n",
    "    pbar1.close()\n"
   ]
  },
  {
   "cell_type": "code",
   "execution_count": null,
   "metadata": {},
   "outputs": [],
   "source": []
  }
 ],
 "metadata": {
  "colab": {
   "name": "GROVER-BERT.ipynb",
   "provenance": []
  },
  "kernelspec": {
   "display_name": "Python 3",
   "language": "python",
   "name": "python3"
  },
  "language_info": {
   "codemirror_mode": {
    "name": "ipython",
    "version": 3
   },
   "file_extension": ".py",
   "mimetype": "text/x-python",
   "name": "python",
   "nbconvert_exporter": "python",
   "pygments_lexer": "ipython3",
   "version": "3.8.10"
  }
 },
 "nbformat": 4,
 "nbformat_minor": 4
}
